{
 "cells": [
  {
   "cell_type": "code",
   "execution_count": 14,
   "id": "5be4589b-65f2-4ccd-b4ce-30849b2b21a7",
   "metadata": {
    "tags": []
   },
   "outputs": [],
   "source": [
    "from IPython.display import display, Markdown\n",
    "import joblib\n",
    "import numpy as np\n",
    "import pandas as pd\n",
    "\n",
    "from sklearn.pipeline import Pipeline\n",
    "from sklearn.impute import SimpleImputer\n",
    "from sklearn.preprocessing import StandardScaler, MinMaxScaler, OneHotEncoder, OrdinalEncoder, LabelEncoder\n",
    "from sklearn.compose import ColumnTransformer\n",
    "from sklearn.linear_model import LogisticRegression\n",
    "\n",
    "from sklearn.neighbors import KNeighborsClassifier\n",
    "from sklearn.model_selection import ShuffleSplit, GridSearchCV, KFold, cross_validate\n",
    "from sklearn.svm import SVC\n",
    "from sklearn.tree import DecisionTreeClassifier\n",
    "from sklearn.ensemble import RandomForestClassifier"
   ]
  },
  {
   "cell_type": "markdown",
   "id": "4c39cb41-708d-4aad-aa73-fd4e3c6773c2",
   "metadata": {
    "tags": []
   },
   "source": [
    "## 1. Obtenção de dados"
   ]
  },
  {
   "cell_type": "markdown",
   "id": "7e871f2b-8ed7-4d54-81e2-967aa41a6b1e",
   "metadata": {
    "tags": []
   },
   "source": [
    "Nessa etapa obtemos novamnete os arquivos brutos de dados e o dicionário antes de iniciar o pre-processamento."
   ]
  },
  {
   "cell_type": "code",
   "execution_count": 15,
   "id": "579ec131-3259-42fb-9c9f-16a0b6d207ac",
   "metadata": {},
   "outputs": [
    {
     "data": {
      "text/html": [
       "<div>\n",
       "<style scoped>\n",
       "    .dataframe tbody tr th:only-of-type {\n",
       "        vertical-align: middle;\n",
       "    }\n",
       "\n",
       "    .dataframe tbody tr th {\n",
       "        vertical-align: top;\n",
       "    }\n",
       "\n",
       "    .dataframe thead th {\n",
       "        text-align: right;\n",
       "    }\n",
       "</style>\n",
       "<table border=\"1\" class=\"dataframe\">\n",
       "  <thead>\n",
       "    <tr style=\"text-align: right;\">\n",
       "      <th></th>\n",
       "      <th>survived</th>\n",
       "      <th>pclass</th>\n",
       "      <th>sex</th>\n",
       "      <th>age</th>\n",
       "      <th>sibsp</th>\n",
       "      <th>parch</th>\n",
       "      <th>fare</th>\n",
       "      <th>embarked</th>\n",
       "      <th>class</th>\n",
       "      <th>who</th>\n",
       "      <th>adult_male</th>\n",
       "      <th>deck</th>\n",
       "      <th>embark_town</th>\n",
       "      <th>alive</th>\n",
       "      <th>alone</th>\n",
       "    </tr>\n",
       "  </thead>\n",
       "  <tbody>\n",
       "    <tr>\n",
       "      <th>0</th>\n",
       "      <td>0</td>\n",
       "      <td>3</td>\n",
       "      <td>male</td>\n",
       "      <td>22.0</td>\n",
       "      <td>1</td>\n",
       "      <td>0</td>\n",
       "      <td>7.2500</td>\n",
       "      <td>S</td>\n",
       "      <td>Third</td>\n",
       "      <td>man</td>\n",
       "      <td>True</td>\n",
       "      <td>NaN</td>\n",
       "      <td>Southampton</td>\n",
       "      <td>no</td>\n",
       "      <td>False</td>\n",
       "    </tr>\n",
       "    <tr>\n",
       "      <th>1</th>\n",
       "      <td>1</td>\n",
       "      <td>1</td>\n",
       "      <td>female</td>\n",
       "      <td>38.0</td>\n",
       "      <td>1</td>\n",
       "      <td>0</td>\n",
       "      <td>71.2833</td>\n",
       "      <td>C</td>\n",
       "      <td>First</td>\n",
       "      <td>woman</td>\n",
       "      <td>False</td>\n",
       "      <td>C</td>\n",
       "      <td>Cherbourg</td>\n",
       "      <td>yes</td>\n",
       "      <td>False</td>\n",
       "    </tr>\n",
       "    <tr>\n",
       "      <th>2</th>\n",
       "      <td>1</td>\n",
       "      <td>3</td>\n",
       "      <td>female</td>\n",
       "      <td>26.0</td>\n",
       "      <td>0</td>\n",
       "      <td>0</td>\n",
       "      <td>7.9250</td>\n",
       "      <td>S</td>\n",
       "      <td>Third</td>\n",
       "      <td>woman</td>\n",
       "      <td>False</td>\n",
       "      <td>NaN</td>\n",
       "      <td>Southampton</td>\n",
       "      <td>yes</td>\n",
       "      <td>True</td>\n",
       "    </tr>\n",
       "    <tr>\n",
       "      <th>3</th>\n",
       "      <td>1</td>\n",
       "      <td>1</td>\n",
       "      <td>female</td>\n",
       "      <td>35.0</td>\n",
       "      <td>1</td>\n",
       "      <td>0</td>\n",
       "      <td>53.1000</td>\n",
       "      <td>S</td>\n",
       "      <td>First</td>\n",
       "      <td>woman</td>\n",
       "      <td>False</td>\n",
       "      <td>C</td>\n",
       "      <td>Southampton</td>\n",
       "      <td>yes</td>\n",
       "      <td>False</td>\n",
       "    </tr>\n",
       "    <tr>\n",
       "      <th>4</th>\n",
       "      <td>0</td>\n",
       "      <td>3</td>\n",
       "      <td>male</td>\n",
       "      <td>35.0</td>\n",
       "      <td>0</td>\n",
       "      <td>0</td>\n",
       "      <td>8.0500</td>\n",
       "      <td>S</td>\n",
       "      <td>Third</td>\n",
       "      <td>man</td>\n",
       "      <td>True</td>\n",
       "      <td>NaN</td>\n",
       "      <td>Southampton</td>\n",
       "      <td>no</td>\n",
       "      <td>True</td>\n",
       "    </tr>\n",
       "  </tbody>\n",
       "</table>\n",
       "</div>"
      ],
      "text/plain": [
       "   survived  pclass     sex   age  sibsp  parch     fare embarked  class  \\\n",
       "0         0       3    male  22.0      1      0   7.2500        S  Third   \n",
       "1         1       1  female  38.0      1      0  71.2833        C  First   \n",
       "2         1       3  female  26.0      0      0   7.9250        S  Third   \n",
       "3         1       1  female  35.0      1      0  53.1000        S  First   \n",
       "4         0       3    male  35.0      0      0   8.0500        S  Third   \n",
       "\n",
       "     who  adult_male deck  embark_town alive  alone  \n",
       "0    man        True  NaN  Southampton    no  False  \n",
       "1  woman       False    C    Cherbourg   yes  False  \n",
       "2  woman       False  NaN  Southampton   yes   True  \n",
       "3  woman       False    C  Southampton   yes  False  \n",
       "4    man        True  NaN  Southampton    no   True  "
      ]
     },
     "execution_count": 15,
     "metadata": {},
     "output_type": "execute_result"
    }
   ],
   "source": [
    "# Carregar o dataset\n",
    "df = pd.read_csv('../data/raw/data.csv') \n",
    "df.head()"
   ]
  },
  {
   "cell_type": "code",
   "execution_count": 16,
   "id": "a264da34-6682-41c4-9ad3-077c465eea68",
   "metadata": {
    "tags": []
   },
   "outputs": [
    {
     "data": {
      "text/html": [
       "<div>\n",
       "<style scoped>\n",
       "    .dataframe tbody tr th:only-of-type {\n",
       "        vertical-align: middle;\n",
       "    }\n",
       "\n",
       "    .dataframe tbody tr th {\n",
       "        vertical-align: top;\n",
       "    }\n",
       "\n",
       "    .dataframe thead th {\n",
       "        text-align: right;\n",
       "    }\n",
       "</style>\n",
       "<table border=\"1\" class=\"dataframe\">\n",
       "  <thead>\n",
       "    <tr style=\"text-align: right;\">\n",
       "      <th></th>\n",
       "      <th>variavel</th>\n",
       "      <th>descricao</th>\n",
       "      <th>tipo</th>\n",
       "      <th>subtipo</th>\n",
       "    </tr>\n",
       "  </thead>\n",
       "  <tbody>\n",
       "    <tr>\n",
       "      <th>0</th>\n",
       "      <td>survived</td>\n",
       "      <td>Indica se o passageiro sobreviveu (1) ou não (0).</td>\n",
       "      <td>qualitativa</td>\n",
       "      <td>nominal</td>\n",
       "    </tr>\n",
       "    <tr>\n",
       "      <th>1</th>\n",
       "      <td>pclass</td>\n",
       "      <td>Classe do bilhete do passageiro (1 = Primeiro,...</td>\n",
       "      <td>qualitativa</td>\n",
       "      <td>ordinal</td>\n",
       "    </tr>\n",
       "    <tr>\n",
       "      <th>2</th>\n",
       "      <td>sex</td>\n",
       "      <td>Sexo do passageiro (male = masculino, female =...</td>\n",
       "      <td>qualitativa</td>\n",
       "      <td>nominal</td>\n",
       "    </tr>\n",
       "    <tr>\n",
       "      <th>3</th>\n",
       "      <td>age</td>\n",
       "      <td>Idade do passageiro em anos.</td>\n",
       "      <td>quantitativa</td>\n",
       "      <td>contínua</td>\n",
       "    </tr>\n",
       "    <tr>\n",
       "      <th>4</th>\n",
       "      <td>sibsp</td>\n",
       "      <td>Número de irmãos ou cônjuges a bordo.</td>\n",
       "      <td>quantitativa</td>\n",
       "      <td>discreta</td>\n",
       "    </tr>\n",
       "    <tr>\n",
       "      <th>5</th>\n",
       "      <td>parch</td>\n",
       "      <td>Número de pais ou filhos a bordo.</td>\n",
       "      <td>quantitativa</td>\n",
       "      <td>discreta</td>\n",
       "    </tr>\n",
       "    <tr>\n",
       "      <th>6</th>\n",
       "      <td>fare</td>\n",
       "      <td>Tarifa paga pelo passageiro.</td>\n",
       "      <td>quantitativa</td>\n",
       "      <td>contínua</td>\n",
       "    </tr>\n",
       "    <tr>\n",
       "      <th>7</th>\n",
       "      <td>embarked</td>\n",
       "      <td>Porto de embarque do passageiro (C = Cherbourg...</td>\n",
       "      <td>qualitativa</td>\n",
       "      <td>nominal</td>\n",
       "    </tr>\n",
       "    <tr>\n",
       "      <th>8</th>\n",
       "      <td>class</td>\n",
       "      <td>Classe do bilhete do passageiro (First, Second...</td>\n",
       "      <td>qualitativa</td>\n",
       "      <td>ordinal</td>\n",
       "    </tr>\n",
       "    <tr>\n",
       "      <th>9</th>\n",
       "      <td>who</td>\n",
       "      <td>Categoria do passageiro (man = homem, woman = ...</td>\n",
       "      <td>qualitativa</td>\n",
       "      <td>nominal</td>\n",
       "    </tr>\n",
       "    <tr>\n",
       "      <th>10</th>\n",
       "      <td>adult_male</td>\n",
       "      <td>Indica se o passageiro é um adulto do sexo mas...</td>\n",
       "      <td>qualitativa</td>\n",
       "      <td>nominal</td>\n",
       "    </tr>\n",
       "    <tr>\n",
       "      <th>11</th>\n",
       "      <td>deck</td>\n",
       "      <td>Deck do navio onde o passageiro estava localiz...</td>\n",
       "      <td>qualitativa</td>\n",
       "      <td>nominal</td>\n",
       "    </tr>\n",
       "    <tr>\n",
       "      <th>12</th>\n",
       "      <td>embark_town</td>\n",
       "      <td>Cidade de embarque do passageiro (Cherbourg, Q...</td>\n",
       "      <td>qualitativa</td>\n",
       "      <td>nominal</td>\n",
       "    </tr>\n",
       "    <tr>\n",
       "      <th>13</th>\n",
       "      <td>alive</td>\n",
       "      <td>Indica se o passageiro está vivo (yes) ou não ...</td>\n",
       "      <td>qualitativa</td>\n",
       "      <td>nominal</td>\n",
       "    </tr>\n",
       "    <tr>\n",
       "      <th>14</th>\n",
       "      <td>alone</td>\n",
       "      <td>Indica se o passageiro estava sozinho (True) o...</td>\n",
       "      <td>qualitativa</td>\n",
       "      <td>nominal</td>\n",
       "    </tr>\n",
       "  </tbody>\n",
       "</table>\n",
       "</div>"
      ],
      "text/plain": [
       "       variavel                                          descricao  \\\n",
       "0      survived  Indica se o passageiro sobreviveu (1) ou não (0).   \n",
       "1        pclass  Classe do bilhete do passageiro (1 = Primeiro,...   \n",
       "2           sex  Sexo do passageiro (male = masculino, female =...   \n",
       "3           age                       Idade do passageiro em anos.   \n",
       "4         sibsp              Número de irmãos ou cônjuges a bordo.   \n",
       "5         parch                  Número de pais ou filhos a bordo.   \n",
       "6          fare                       Tarifa paga pelo passageiro.   \n",
       "7      embarked  Porto de embarque do passageiro (C = Cherbourg...   \n",
       "8         class  Classe do bilhete do passageiro (First, Second...   \n",
       "9           who  Categoria do passageiro (man = homem, woman = ...   \n",
       "10   adult_male  Indica se o passageiro é um adulto do sexo mas...   \n",
       "11         deck  Deck do navio onde o passageiro estava localiz...   \n",
       "12  embark_town  Cidade de embarque do passageiro (Cherbourg, Q...   \n",
       "13        alive  Indica se o passageiro está vivo (yes) ou não ...   \n",
       "14        alone  Indica se o passageiro estava sozinho (True) o...   \n",
       "\n",
       "            tipo   subtipo  \n",
       "0    qualitativa   nominal  \n",
       "1    qualitativa   ordinal  \n",
       "2    qualitativa   nominal  \n",
       "3   quantitativa  contínua  \n",
       "4   quantitativa  discreta  \n",
       "5   quantitativa  discreta  \n",
       "6   quantitativa  contínua  \n",
       "7    qualitativa   nominal  \n",
       "8    qualitativa   ordinal  \n",
       "9    qualitativa   nominal  \n",
       "10   qualitativa   nominal  \n",
       "11   qualitativa   nominal  \n",
       "12   qualitativa   nominal  \n",
       "13   qualitativa   nominal  \n",
       "14   qualitativa   nominal  "
      ]
     },
     "execution_count": 16,
     "metadata": {},
     "output_type": "execute_result"
    }
   ],
   "source": [
    "dicionario = pd.read_csv('../data/external/dictionary.csv')\n",
    "dicionario"
   ]
  },
  {
   "cell_type": "markdown",
   "id": "da7223f4-e9ad-485b-8df0-14fe0343dff3",
   "metadata": {},
   "source": [
    "## 2. Preparação dos dados"
   ]
  },
  {
   "cell_type": "code",
   "execution_count": 17,
   "id": "bede7dc9-e98d-4cd0-817d-894a6828fc00",
   "metadata": {
    "tags": []
   },
   "outputs": [],
   "source": [
    "target_column = 'survived' # prever coluna survived\n",
    "\n",
    "nominal_columns = (\n",
    "    dicionario\n",
    "    .query(\"subtipo == 'nominal' and variavel != @target_column\")\n",
    "    .variavel\n",
    "    .tolist()\n",
    ")\n",
    "discrete_columns = (\n",
    "    dicionario\n",
    "    .query(\"subtipo == 'discreta'\")\n",
    "    .variavel\n",
    "    .tolist()\n",
    ")\n",
    "continuous_columns = (\n",
    "    dicionario\n",
    "    .query(\"subtipo == 'continua'\")\n",
    "    .variavel\n",
    "    .tolist()\n",
    ")\n",
    "ordinal_columns = (\n",
    "    dicionario\n",
    "    .query(\"subtipo == 'ordinal'\")\n",
    "    .variavel\n",
    "    .tolist()\n",
    ")\n",
    "\n",
    "X = df.drop(columns=[target_column], axis=1)\n",
    "y = df[target_column]"
   ]
  },
  {
   "cell_type": "markdown",
   "id": "554101ec-340b-4024-899e-e9eaddf8b83d",
   "metadata": {
    "tags": []
   },
   "source": [
    "### Tratar Outliers"
   ]
  },
  {
   "cell_type": "code",
   "execution_count": 19,
   "id": "4cbbd60f-439d-47b7-8ae5-74c46ddfe30f",
   "metadata": {
    "tags": []
   },
   "outputs": [],
   "source": [
    "def identify_outliers(df, column):\n",
    "    column_data = df[column].copy()\n",
    "    Q1 = column_data.quantile(0.25)\n",
    "    Q3 = column_data.quantile(0.75)\n",
    "    IQR = Q3 - Q1\n",
    "    lower_bound = Q1 - 1.5 * IQR\n",
    "    upper_bound = Q3 + 1.5 * IQR\n",
    "    df[f'{column}_outlier'] = (column_data < lower_bound) | (column_data > upper_bound)\n",
    "    return df\n",
    "\n",
    "numeric_columns = ['fare', 'age', 'sibsp', 'parch']\n"
   ]
  },
  {
   "cell_type": "markdown",
   "id": "8ab74b61-e63a-453f-9e86-2b02d15373b9",
   "metadata": {},
   "source": [
    "### Tratar Dados Faltantes"
   ]
  },
  {
   "cell_type": "code",
   "execution_count": 18,
   "id": "b20f10df-ec00-46bd-a4cb-dc71bbf15d0c",
   "metadata": {
    "tags": []
   },
   "outputs": [
    {
     "data": {
      "text/plain": [
       "survived         0\n",
       "pclass           0\n",
       "sex              0\n",
       "age            177\n",
       "sibsp            0\n",
       "parch            0\n",
       "fare             0\n",
       "embarked         2\n",
       "class            0\n",
       "who              0\n",
       "adult_male       0\n",
       "deck           688\n",
       "embark_town      2\n",
       "alive            0\n",
       "alone            0\n",
       "dtype: int64"
      ]
     },
     "execution_count": 18,
     "metadata": {},
     "output_type": "execute_result"
    }
   ],
   "source": [
    "# Visualizar a quantidade de dados faltantes\n",
    "df.isnull().sum()"
   ]
  },
  {
   "cell_type": "code",
   "execution_count": 20,
   "id": "73612737-1a0a-41ce-bb5a-cb12e8307124",
   "metadata": {
    "tags": []
   },
   "outputs": [],
   "source": [
    "# excluir coluna 'deck', por ter mais da metade de dados faltates\n",
    "df = df.drop(columns=['deck'])\n",
    "\n",
    "# Tratar dados faltantes\n",
    "\n",
    "nominal_preprocessor = Pipeline([\n",
    "    ('missing', SimpleImputer(strategy='most_frequent')), \n",
    "    ('encoding', OneHotEncoder(sparse_output=False, drop='first')), \n",
    "    ('normalization', StandardScaler())  \n",
    "])\n",
    "discrete_preprocessor = Pipeline([\n",
    "    ('missing', SimpleImputer(strategy='most_frequent')), \n",
    "    ('normalization', StandardScaler()) \n",
    "])\n",
    "continuous_preprocessor = Pipeline([\n",
    "    ('missing', SimpleImputer(strategy='mean')), \n",
    "    ('normalization', StandardScaler())  \n",
    "])\n",
    "ordinal_preprocessor = Pipeline([\n",
    "    ('missing', SimpleImputer(strategy='most_frequent')), \n",
    "    ('encoding', OrdinalEncoder()) \n",
    "])\n",
    "preprocessor = ColumnTransformer([\n",
    "    ('nominal', nominal_preprocessor, nominal_columns),\n",
    "    ('continuous', continuous_preprocessor, continuous_columns),\n",
    "    ('ordinal', ordinal_preprocessor, ordinal_columns),\n",
    "    ('discrete', discrete_preprocessor, discrete_columns)\n",
    "])\n",
    "\n",
    "model = LogisticRegression()\n"
   ]
  },
  {
   "cell_type": "markdown",
   "id": "fac34232-5df0-4d96-86da-3b504366c2ca",
   "metadata": {},
   "source": [
    "## 3. Seleção de Modelos"
   ]
  },
  {
   "cell_type": "markdown",
   "id": "715f3404-fb76-420f-9e7f-d04c1cc95a43",
   "metadata": {},
   "source": [
    "Iremos análisar quatro modelos, que serão testados utilizando um método de validação, a saber:\n",
    "\n",
    "* K-Nearest-Neighbors\n",
    "* Support Vector Machine\n",
    "* Decision Tree\n",
    "* Random Forest\n",
    "\n",
    "Além disso, cada um desses algoritmos será testado com diferentes hiper-parametros, para que possamos encontrar o melhor modelo e a melhor configuração possível para esse modelo.\n",
    "\n",
    "Utilizaremos as seguintes métricas para análise:\n",
    "\n",
    "* Acurácia (accuracy): proporção entre os dados que foram corretamente previstos (como positivos ou negativos) com o total de dados observados;\n",
    "* Precisão (precision): proporção entre dados corretamente previstos como positivos e o total de observações positivas.\n",
    "* Recall: proporção entre dados corretamente previstos como positivos com o total de observações.\n",
    "* F1-score: média entre precision e recall, portanto levando em conta tanto falsos positivos quanto falsos negativos."
   ]
  },
  {
   "cell_type": "code",
   "execution_count": 30,
   "id": "7e404e72-716f-4fd8-b9d6-8e4529e6dfe6",
   "metadata": {
    "tags": []
   },
   "outputs": [],
   "source": [
    "# experiment settings\n",
    "n_splits_comparative_analysis = 10\n",
    "n_folds_grid_search = 5\n",
    "test_size = .2\n",
    "random_state = 42\n",
    "scoring = 'accuracy'\n",
    "metrics = ['accuracy', 'precision_macro', 'recall_macro', 'f1_macro']\n",
    "\n",
    "# model settings\n",
    "max_iter = 10000\n",
    "models = [\n",
    "    ('K-Nearest Neighbors', KNeighborsClassifier(), {\"n_neighbors\": range(3, 20, 2), 'weights': ['uniform', 'distance']}),\n",
    "    ('Suport Vector Machines', SVC(random_state=random_state, max_iter=max_iter), {\"kernel\": [\"linear\", \"rbf\"], 'C':[1,10,100,1000],'gamma':[0.0001, 0.001, 0.1, 1]}),\n",
    "    ('Decision Tree',  DecisionTreeClassifier(random_state=random_state), {'criterion':['gini','entropy'],'max_depth': [3, 6, 8]}),\n",
    "    ('Random Forest',  RandomForestClassifier(random_state=random_state), {'criterion':['gini','entropy'],'max_depth': [3, 6, 8], 'n_estimators': [10, 30]}),\n",
    "]"
   ]
  },
  {
   "cell_type": "code",
   "execution_count": 35,
   "id": "698674a5-3a09-42e3-a664-e4408e9fd609",
   "metadata": {
    "tags": []
   },
   "outputs": [
    {
     "name": "stdout",
     "output_type": "stream",
     "text": [
      "running K-Nearest Neighbors...\n"
     ]
    },
    {
     "name": "stderr",
     "output_type": "stream",
     "text": [
      "/tmp/ipykernel_955/2972822064.py:26: FutureWarning: ['model_name'] did not aggregate successfully. If any error is raised this will raise in a future version of pandas. Drop these columns/ops to avoid this warning.\n",
      "  display(pd.DataFrame(scores).agg(['mean', 'std']))\n"
     ]
    },
    {
     "data": {
      "text/html": [
       "<div>\n",
       "<style scoped>\n",
       "    .dataframe tbody tr th:only-of-type {\n",
       "        vertical-align: middle;\n",
       "    }\n",
       "\n",
       "    .dataframe tbody tr th {\n",
       "        vertical-align: top;\n",
       "    }\n",
       "\n",
       "    .dataframe thead th {\n",
       "        text-align: right;\n",
       "    }\n",
       "</style>\n",
       "<table border=\"1\" class=\"dataframe\">\n",
       "  <thead>\n",
       "    <tr style=\"text-align: right;\">\n",
       "      <th></th>\n",
       "      <th>fit_time</th>\n",
       "      <th>score_time</th>\n",
       "      <th>test_accuracy</th>\n",
       "      <th>test_precision_macro</th>\n",
       "      <th>test_recall_macro</th>\n",
       "      <th>test_f1_macro</th>\n",
       "    </tr>\n",
       "  </thead>\n",
       "  <tbody>\n",
       "    <tr>\n",
       "      <th>mean</th>\n",
       "      <td>0.537538</td>\n",
       "      <td>0.023367</td>\n",
       "      <td>0.970950</td>\n",
       "      <td>0.970555</td>\n",
       "      <td>0.968561</td>\n",
       "      <td>0.969312</td>\n",
       "    </tr>\n",
       "    <tr>\n",
       "      <th>std</th>\n",
       "      <td>0.031088</td>\n",
       "      <td>0.009272</td>\n",
       "      <td>0.010131</td>\n",
       "      <td>0.010045</td>\n",
       "      <td>0.011708</td>\n",
       "      <td>0.010544</td>\n",
       "    </tr>\n",
       "  </tbody>\n",
       "</table>\n",
       "</div>"
      ],
      "text/plain": [
       "      fit_time  score_time  test_accuracy  test_precision_macro  \\\n",
       "mean  0.537538    0.023367       0.970950              0.970555   \n",
       "std   0.031088    0.009272       0.010131              0.010045   \n",
       "\n",
       "      test_recall_macro  test_f1_macro  \n",
       "mean           0.968561       0.969312  \n",
       "std            0.011708       0.010544  "
      ]
     },
     "metadata": {},
     "output_type": "display_data"
    },
    {
     "name": "stdout",
     "output_type": "stream",
     "text": [
      "running Suport Vector Machines...\n"
     ]
    },
    {
     "name": "stderr",
     "output_type": "stream",
     "text": [
      "/tmp/ipykernel_955/2972822064.py:26: FutureWarning: ['model_name'] did not aggregate successfully. If any error is raised this will raise in a future version of pandas. Drop these columns/ops to avoid this warning.\n",
      "  display(pd.DataFrame(scores).agg(['mean', 'std']))\n"
     ]
    },
    {
     "data": {
      "text/html": [
       "<div>\n",
       "<style scoped>\n",
       "    .dataframe tbody tr th:only-of-type {\n",
       "        vertical-align: middle;\n",
       "    }\n",
       "\n",
       "    .dataframe tbody tr th {\n",
       "        vertical-align: top;\n",
       "    }\n",
       "\n",
       "    .dataframe thead th {\n",
       "        text-align: right;\n",
       "    }\n",
       "</style>\n",
       "<table border=\"1\" class=\"dataframe\">\n",
       "  <thead>\n",
       "    <tr style=\"text-align: right;\">\n",
       "      <th></th>\n",
       "      <th>fit_time</th>\n",
       "      <th>score_time</th>\n",
       "      <th>test_accuracy</th>\n",
       "      <th>test_precision_macro</th>\n",
       "      <th>test_recall_macro</th>\n",
       "      <th>test_f1_macro</th>\n",
       "    </tr>\n",
       "  </thead>\n",
       "  <tbody>\n",
       "    <tr>\n",
       "      <th>mean</th>\n",
       "      <td>1.392756</td>\n",
       "      <td>0.028128</td>\n",
       "      <td>1.0</td>\n",
       "      <td>1.0</td>\n",
       "      <td>1.0</td>\n",
       "      <td>1.0</td>\n",
       "    </tr>\n",
       "    <tr>\n",
       "      <th>std</th>\n",
       "      <td>0.361225</td>\n",
       "      <td>0.016923</td>\n",
       "      <td>0.0</td>\n",
       "      <td>0.0</td>\n",
       "      <td>0.0</td>\n",
       "      <td>0.0</td>\n",
       "    </tr>\n",
       "  </tbody>\n",
       "</table>\n",
       "</div>"
      ],
      "text/plain": [
       "      fit_time  score_time  test_accuracy  test_precision_macro  \\\n",
       "mean  1.392756    0.028128            1.0                   1.0   \n",
       "std   0.361225    0.016923            0.0                   0.0   \n",
       "\n",
       "      test_recall_macro  test_f1_macro  \n",
       "mean                1.0            1.0  \n",
       "std                 0.0            0.0  "
      ]
     },
     "metadata": {},
     "output_type": "display_data"
    },
    {
     "name": "stdout",
     "output_type": "stream",
     "text": [
      "running Decision Tree...\n"
     ]
    },
    {
     "name": "stderr",
     "output_type": "stream",
     "text": [
      "/tmp/ipykernel_955/2972822064.py:26: FutureWarning: ['model_name'] did not aggregate successfully. If any error is raised this will raise in a future version of pandas. Drop these columns/ops to avoid this warning.\n",
      "  display(pd.DataFrame(scores).agg(['mean', 'std']))\n"
     ]
    },
    {
     "data": {
      "text/html": [
       "<div>\n",
       "<style scoped>\n",
       "    .dataframe tbody tr th:only-of-type {\n",
       "        vertical-align: middle;\n",
       "    }\n",
       "\n",
       "    .dataframe tbody tr th {\n",
       "        vertical-align: top;\n",
       "    }\n",
       "\n",
       "    .dataframe thead th {\n",
       "        text-align: right;\n",
       "    }\n",
       "</style>\n",
       "<table border=\"1\" class=\"dataframe\">\n",
       "  <thead>\n",
       "    <tr style=\"text-align: right;\">\n",
       "      <th></th>\n",
       "      <th>fit_time</th>\n",
       "      <th>score_time</th>\n",
       "      <th>test_accuracy</th>\n",
       "      <th>test_precision_macro</th>\n",
       "      <th>test_recall_macro</th>\n",
       "      <th>test_f1_macro</th>\n",
       "    </tr>\n",
       "  </thead>\n",
       "  <tbody>\n",
       "    <tr>\n",
       "      <th>mean</th>\n",
       "      <td>0.210071</td>\n",
       "      <td>0.019390</td>\n",
       "      <td>1.0</td>\n",
       "      <td>1.0</td>\n",
       "      <td>1.0</td>\n",
       "      <td>1.0</td>\n",
       "    </tr>\n",
       "    <tr>\n",
       "      <th>std</th>\n",
       "      <td>0.040699</td>\n",
       "      <td>0.005529</td>\n",
       "      <td>0.0</td>\n",
       "      <td>0.0</td>\n",
       "      <td>0.0</td>\n",
       "      <td>0.0</td>\n",
       "    </tr>\n",
       "  </tbody>\n",
       "</table>\n",
       "</div>"
      ],
      "text/plain": [
       "      fit_time  score_time  test_accuracy  test_precision_macro  \\\n",
       "mean  0.210071    0.019390            1.0                   1.0   \n",
       "std   0.040699    0.005529            0.0                   0.0   \n",
       "\n",
       "      test_recall_macro  test_f1_macro  \n",
       "mean                1.0            1.0  \n",
       "std                 0.0            0.0  "
      ]
     },
     "metadata": {},
     "output_type": "display_data"
    },
    {
     "name": "stdout",
     "output_type": "stream",
     "text": [
      "running Random Forest...\n"
     ]
    },
    {
     "name": "stderr",
     "output_type": "stream",
     "text": [
      "/tmp/ipykernel_955/2972822064.py:26: FutureWarning: ['model_name'] did not aggregate successfully. If any error is raised this will raise in a future version of pandas. Drop these columns/ops to avoid this warning.\n",
      "  display(pd.DataFrame(scores).agg(['mean', 'std']))\n"
     ]
    },
    {
     "data": {
      "text/html": [
       "<div>\n",
       "<style scoped>\n",
       "    .dataframe tbody tr th:only-of-type {\n",
       "        vertical-align: middle;\n",
       "    }\n",
       "\n",
       "    .dataframe tbody tr th {\n",
       "        vertical-align: top;\n",
       "    }\n",
       "\n",
       "    .dataframe thead th {\n",
       "        text-align: right;\n",
       "    }\n",
       "</style>\n",
       "<table border=\"1\" class=\"dataframe\">\n",
       "  <thead>\n",
       "    <tr style=\"text-align: right;\">\n",
       "      <th></th>\n",
       "      <th>fit_time</th>\n",
       "      <th>score_time</th>\n",
       "      <th>test_accuracy</th>\n",
       "      <th>test_precision_macro</th>\n",
       "      <th>test_recall_macro</th>\n",
       "      <th>test_f1_macro</th>\n",
       "    </tr>\n",
       "  </thead>\n",
       "  <tbody>\n",
       "    <tr>\n",
       "      <th>mean</th>\n",
       "      <td>4.224876</td>\n",
       "      <td>0.026763</td>\n",
       "      <td>0.998883</td>\n",
       "      <td>0.998848</td>\n",
       "      <td>0.998848</td>\n",
       "      <td>0.998848</td>\n",
       "    </tr>\n",
       "    <tr>\n",
       "      <th>std</th>\n",
       "      <td>0.107908</td>\n",
       "      <td>0.009527</td>\n",
       "      <td>0.003533</td>\n",
       "      <td>0.003643</td>\n",
       "      <td>0.003643</td>\n",
       "      <td>0.003643</td>\n",
       "    </tr>\n",
       "  </tbody>\n",
       "</table>\n",
       "</div>"
      ],
      "text/plain": [
       "      fit_time  score_time  test_accuracy  test_precision_macro  \\\n",
       "mean  4.224876    0.026763       0.998883              0.998848   \n",
       "std   0.107908    0.009527       0.003533              0.003643   \n",
       "\n",
       "      test_recall_macro  test_f1_macro  \n",
       "mean           0.998848       0.998848  \n",
       "std            0.003643       0.003643  "
      ]
     },
     "metadata": {},
     "output_type": "display_data"
    }
   ],
   "source": [
    "results = pd.DataFrame({})\n",
    "cross_validate_grid_search = KFold(n_splits=n_folds_grid_search)\n",
    "cross_validate_comparative_analysis = ShuffleSplit(n_splits=n_splits_comparative_analysis, test_size=test_size, random_state=random_state)\n",
    "for model_name, model_object, model_parameters in models:\n",
    "    print(f\"running {model_name}...\")\n",
    "    model_grid_search = GridSearchCV(\n",
    "        estimator=model_object,\n",
    "        param_grid=model_parameters,\n",
    "        scoring=scoring,\n",
    "        n_jobs=-1,\n",
    "        cv=cross_validate_grid_search\n",
    "    )\n",
    "    approach = Pipeline(steps=[\n",
    "        ('preprocessor', preprocessor),\n",
    "        ('model', model_grid_search)\n",
    "    ])\n",
    "    scores = cross_validate(\n",
    "        estimator=approach,\n",
    "        X=X,\n",
    "        y=y,\n",
    "        cv=cross_validate_comparative_analysis,\n",
    "        n_jobs=-1,\n",
    "        scoring=metrics\n",
    "    )\n",
    "    scores['model_name'] = [model_name] * n_splits_comparative_analysis\n",
    "    display(pd.DataFrame(scores).agg(['mean', 'std']))\n",
    "    results = pd.concat([results, pd.DataFrame(scores)], ignore_index=True)\n",
    "    \n",
    "  "
   ]
  },
  {
   "cell_type": "code",
   "execution_count": 36,
   "id": "eadd56d3-68e3-4031-91c4-ec4db6693eb3",
   "metadata": {
    "tags": []
   },
   "outputs": [
    {
     "data": {
      "text/markdown": [
       "### 3.1 Resultados gerais"
      ],
      "text/plain": [
       "<IPython.core.display.Markdown object>"
      ]
     },
     "metadata": {},
     "output_type": "display_data"
    },
    {
     "data": {
      "text/html": [
       "<style type=\"text/css\">\n",
       "#T_33a08 td {\n",
       "  text-align: center;\n",
       "}\n",
       "#T_33a08_row0_col0, #T_33a08_row2_col0, #T_33a08_row4_col0, #T_33a08_row4_col3, #T_33a08_row6_col0, #T_33a08_row6_col3, #T_33a08_row8_col0, #T_33a08_row8_col3, #T_33a08_row10_col0, #T_33a08_row10_col3 {\n",
       "  color: white;\n",
       "  background-color: gray;\n",
       "  font-weight: bold;\n",
       "}\n",
       "</style>\n",
       "<table id=\"T_33a08\">\n",
       "  <thead>\n",
       "    <tr>\n",
       "      <th class=\"blank\" >&nbsp;</th>\n",
       "      <th class=\"index_name level0\" >model_name</th>\n",
       "      <th id=\"T_33a08_level0_col0\" class=\"col_heading level0 col0\" >Decision Tree</th>\n",
       "      <th id=\"T_33a08_level0_col1\" class=\"col_heading level0 col1\" >K-Nearest Neighbors</th>\n",
       "      <th id=\"T_33a08_level0_col2\" class=\"col_heading level0 col2\" >Random Forest</th>\n",
       "      <th id=\"T_33a08_level0_col3\" class=\"col_heading level0 col3\" >Suport Vector Machines</th>\n",
       "    </tr>\n",
       "  </thead>\n",
       "  <tbody>\n",
       "    <tr>\n",
       "      <th id=\"T_33a08_level0_row0\" class=\"row_heading level0 row0\" rowspan=\"2\">fit_time</th>\n",
       "      <th id=\"T_33a08_level1_row0\" class=\"row_heading level1 row0\" >mean</th>\n",
       "      <td id=\"T_33a08_row0_col0\" class=\"data row0 col0\" >0.210071</td>\n",
       "      <td id=\"T_33a08_row0_col1\" class=\"data row0 col1\" >0.537538</td>\n",
       "      <td id=\"T_33a08_row0_col2\" class=\"data row0 col2\" >4.224876</td>\n",
       "      <td id=\"T_33a08_row0_col3\" class=\"data row0 col3\" >1.392756</td>\n",
       "    </tr>\n",
       "    <tr>\n",
       "      <th id=\"T_33a08_level1_row1\" class=\"row_heading level1 row1\" >std</th>\n",
       "      <td id=\"T_33a08_row1_col0\" class=\"data row1 col0\" >0.040699</td>\n",
       "      <td id=\"T_33a08_row1_col1\" class=\"data row1 col1\" >0.031088</td>\n",
       "      <td id=\"T_33a08_row1_col2\" class=\"data row1 col2\" >0.107908</td>\n",
       "      <td id=\"T_33a08_row1_col3\" class=\"data row1 col3\" >0.361225</td>\n",
       "    </tr>\n",
       "    <tr>\n",
       "      <th id=\"T_33a08_level0_row2\" class=\"row_heading level0 row2\" rowspan=\"2\">score_time</th>\n",
       "      <th id=\"T_33a08_level1_row2\" class=\"row_heading level1 row2\" >mean</th>\n",
       "      <td id=\"T_33a08_row2_col0\" class=\"data row2 col0\" >0.019390</td>\n",
       "      <td id=\"T_33a08_row2_col1\" class=\"data row2 col1\" >0.023367</td>\n",
       "      <td id=\"T_33a08_row2_col2\" class=\"data row2 col2\" >0.026763</td>\n",
       "      <td id=\"T_33a08_row2_col3\" class=\"data row2 col3\" >0.028128</td>\n",
       "    </tr>\n",
       "    <tr>\n",
       "      <th id=\"T_33a08_level1_row3\" class=\"row_heading level1 row3\" >std</th>\n",
       "      <td id=\"T_33a08_row3_col0\" class=\"data row3 col0\" >0.005529</td>\n",
       "      <td id=\"T_33a08_row3_col1\" class=\"data row3 col1\" >0.009272</td>\n",
       "      <td id=\"T_33a08_row3_col2\" class=\"data row3 col2\" >0.009527</td>\n",
       "      <td id=\"T_33a08_row3_col3\" class=\"data row3 col3\" >0.016923</td>\n",
       "    </tr>\n",
       "    <tr>\n",
       "      <th id=\"T_33a08_level0_row4\" class=\"row_heading level0 row4\" rowspan=\"2\">test_accuracy</th>\n",
       "      <th id=\"T_33a08_level1_row4\" class=\"row_heading level1 row4\" >mean</th>\n",
       "      <td id=\"T_33a08_row4_col0\" class=\"data row4 col0\" >1.000000</td>\n",
       "      <td id=\"T_33a08_row4_col1\" class=\"data row4 col1\" >0.970950</td>\n",
       "      <td id=\"T_33a08_row4_col2\" class=\"data row4 col2\" >0.998883</td>\n",
       "      <td id=\"T_33a08_row4_col3\" class=\"data row4 col3\" >1.000000</td>\n",
       "    </tr>\n",
       "    <tr>\n",
       "      <th id=\"T_33a08_level1_row5\" class=\"row_heading level1 row5\" >std</th>\n",
       "      <td id=\"T_33a08_row5_col0\" class=\"data row5 col0\" >0.000000</td>\n",
       "      <td id=\"T_33a08_row5_col1\" class=\"data row5 col1\" >0.010131</td>\n",
       "      <td id=\"T_33a08_row5_col2\" class=\"data row5 col2\" >0.003533</td>\n",
       "      <td id=\"T_33a08_row5_col3\" class=\"data row5 col3\" >0.000000</td>\n",
       "    </tr>\n",
       "    <tr>\n",
       "      <th id=\"T_33a08_level0_row6\" class=\"row_heading level0 row6\" rowspan=\"2\">test_precision_macro</th>\n",
       "      <th id=\"T_33a08_level1_row6\" class=\"row_heading level1 row6\" >mean</th>\n",
       "      <td id=\"T_33a08_row6_col0\" class=\"data row6 col0\" >1.000000</td>\n",
       "      <td id=\"T_33a08_row6_col1\" class=\"data row6 col1\" >0.970555</td>\n",
       "      <td id=\"T_33a08_row6_col2\" class=\"data row6 col2\" >0.998848</td>\n",
       "      <td id=\"T_33a08_row6_col3\" class=\"data row6 col3\" >1.000000</td>\n",
       "    </tr>\n",
       "    <tr>\n",
       "      <th id=\"T_33a08_level1_row7\" class=\"row_heading level1 row7\" >std</th>\n",
       "      <td id=\"T_33a08_row7_col0\" class=\"data row7 col0\" >0.000000</td>\n",
       "      <td id=\"T_33a08_row7_col1\" class=\"data row7 col1\" >0.010045</td>\n",
       "      <td id=\"T_33a08_row7_col2\" class=\"data row7 col2\" >0.003643</td>\n",
       "      <td id=\"T_33a08_row7_col3\" class=\"data row7 col3\" >0.000000</td>\n",
       "    </tr>\n",
       "    <tr>\n",
       "      <th id=\"T_33a08_level0_row8\" class=\"row_heading level0 row8\" rowspan=\"2\">test_recall_macro</th>\n",
       "      <th id=\"T_33a08_level1_row8\" class=\"row_heading level1 row8\" >mean</th>\n",
       "      <td id=\"T_33a08_row8_col0\" class=\"data row8 col0\" >1.000000</td>\n",
       "      <td id=\"T_33a08_row8_col1\" class=\"data row8 col1\" >0.968561</td>\n",
       "      <td id=\"T_33a08_row8_col2\" class=\"data row8 col2\" >0.998848</td>\n",
       "      <td id=\"T_33a08_row8_col3\" class=\"data row8 col3\" >1.000000</td>\n",
       "    </tr>\n",
       "    <tr>\n",
       "      <th id=\"T_33a08_level1_row9\" class=\"row_heading level1 row9\" >std</th>\n",
       "      <td id=\"T_33a08_row9_col0\" class=\"data row9 col0\" >0.000000</td>\n",
       "      <td id=\"T_33a08_row9_col1\" class=\"data row9 col1\" >0.011708</td>\n",
       "      <td id=\"T_33a08_row9_col2\" class=\"data row9 col2\" >0.003643</td>\n",
       "      <td id=\"T_33a08_row9_col3\" class=\"data row9 col3\" >0.000000</td>\n",
       "    </tr>\n",
       "    <tr>\n",
       "      <th id=\"T_33a08_level0_row10\" class=\"row_heading level0 row10\" rowspan=\"2\">test_f1_macro</th>\n",
       "      <th id=\"T_33a08_level1_row10\" class=\"row_heading level1 row10\" >mean</th>\n",
       "      <td id=\"T_33a08_row10_col0\" class=\"data row10 col0\" >1.000000</td>\n",
       "      <td id=\"T_33a08_row10_col1\" class=\"data row10 col1\" >0.969312</td>\n",
       "      <td id=\"T_33a08_row10_col2\" class=\"data row10 col2\" >0.998848</td>\n",
       "      <td id=\"T_33a08_row10_col3\" class=\"data row10 col3\" >1.000000</td>\n",
       "    </tr>\n",
       "    <tr>\n",
       "      <th id=\"T_33a08_level1_row11\" class=\"row_heading level1 row11\" >std</th>\n",
       "      <td id=\"T_33a08_row11_col0\" class=\"data row11 col0\" >0.000000</td>\n",
       "      <td id=\"T_33a08_row11_col1\" class=\"data row11 col1\" >0.010544</td>\n",
       "      <td id=\"T_33a08_row11_col2\" class=\"data row11 col2\" >0.003643</td>\n",
       "      <td id=\"T_33a08_row11_col3\" class=\"data row11 col3\" >0.000000</td>\n",
       "    </tr>\n",
       "  </tbody>\n",
       "</table>\n"
      ],
      "text/plain": [
       "<pandas.io.formats.style.Styler at 0x7fba1e705900>"
      ]
     },
     "execution_count": 36,
     "metadata": {},
     "output_type": "execute_result"
    }
   ],
   "source": [
    "def highlight_best(s, props=''):\n",
    "    if s.name[1] != 'std':\n",
    "        if s.name[0].endswith('time'):\n",
    "            return np.where(s == np.nanmin(s.values), props, '')\n",
    "        return np.where(s == np.nanmax(s.values), props, '')\n",
    "\n",
    "display(Markdown(\"### 3.1 Resultados gerais\"))\n",
    "(\n",
    "    results\n",
    "    .groupby('model_name')\n",
    "    .agg(['mean', 'std']).T\n",
    "    .style\n",
    "    .apply(highlight_best, props='color:white;background-color:gray;font-weight: bold;', axis=1)\n",
    "    .set_table_styles([{'selector': 'td', 'props': 'text-align: center;'}])\n",
    ")"
   ]
  },
  {
   "cell_type": "markdown",
   "id": "a3bcc69d-02e7-45a0-8b8c-24fecafec82b",
   "metadata": {},
   "source": [
    "O Decision Tree obteve melhores resultados, equilibrando perfeitamente a alta performance com o tempo de ajuste rápido."
   ]
  },
  {
   "cell_type": "markdown",
   "id": "1a064b10-6a91-414b-a5fe-00309b74a9d4",
   "metadata": {},
   "source": [
    "### 3.2 Persistência do modelo"
   ]
  },
  {
   "cell_type": "code",
   "execution_count": 37,
   "id": "ff44a59b-66a0-43bf-b176-fd310f7e9f9b",
   "metadata": {
    "tags": []
   },
   "outputs": [
    {
     "name": "stdout",
     "output_type": "stream",
     "text": [
      "Hiper parâmetros do modelo: {'n_neighbors': 15, 'weights': 'distance'}\n"
     ]
    }
   ],
   "source": [
    "#Obtem o modelo e os parametros ganhadores\n",
    "model_name, model_object, model_parameters  = [foo for foo in models if foo[0] == \"K-Nearest Neighbors\"][0] \n",
    "\n",
    "\n",
    "model_grid_search = GridSearchCV(\n",
    "        estimator=model_object,\n",
    "        param_grid=model_parameters,\n",
    "        scoring=scoring,\n",
    "        n_jobs=-1,\n",
    "        cv=cross_validate_grid_search\n",
    "    )\n",
    "\n",
    "approach = Pipeline([\n",
    "    (\"preprocessor\", preprocessor),\n",
    "    (\"model\", model_grid_search)\n",
    "])\n",
    "\n",
    "approach.fit(X, y) #Seleciona o approach\n",
    "\n",
    "print(f\"Hiper parâmetros do modelo: {approach.steps[1][1].best_params_}\")"
   ]
  },
  {
   "cell_type": "code",
   "execution_count": 39,
   "id": "eb4ba0d7-28c5-4fc7-a87c-5435b02c2454",
   "metadata": {
    "tags": []
   },
   "outputs": [
    {
     "data": {
      "text/plain": [
       "['../models/model.joblib']"
      ]
     },
     "execution_count": 39,
     "metadata": {},
     "output_type": "execute_result"
    }
   ],
   "source": [
    "joblib.dump(approach, '../models/model.joblib') # Salva o modelo em disco"
   ]
  },
  {
   "cell_type": "code",
   "execution_count": null,
   "id": "29d662f0-6195-4146-b949-03205ffc3f89",
   "metadata": {},
   "outputs": [],
   "source": []
  }
 ],
 "metadata": {
  "kernelspec": {
   "display_name": "Python 3 (ipykernel)",
   "language": "python",
   "name": "python3"
  },
  "language_info": {
   "codemirror_mode": {
    "name": "ipython",
    "version": 3
   },
   "file_extension": ".py",
   "mimetype": "text/x-python",
   "name": "python",
   "nbconvert_exporter": "python",
   "pygments_lexer": "ipython3",
   "version": "3.10.11"
  }
 },
 "nbformat": 4,
 "nbformat_minor": 5
}
